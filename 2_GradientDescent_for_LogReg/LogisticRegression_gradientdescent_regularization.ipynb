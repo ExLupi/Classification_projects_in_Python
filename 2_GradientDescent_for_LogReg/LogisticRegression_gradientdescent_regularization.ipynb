{
 "cells": [
  {
   "cell_type": "markdown",
   "metadata": {},
   "source": [
    "### Implementing logistic regression from scratch\n",
    "\n",
    "#### The goal of this project is to\n",
    "- Implement logistic regression with gradiant descent from scratch \n",
    "- perform sentiment analysis on curated Amazon review data.\n",
    "\n",
    "The project is developed upon a project for classification class from UW on Coursera. \n",
    "\n",
    "A subset of the Amazon product review dataset is provided as class materials in csv format. The subset was chosen to contain similar numbers of positive and negative reviews, as the original dataset consisted primarily of positive reviews.\n",
    "\n",
    "#### Emma Yu, Sep 2016"
   ]
  },
  {
   "cell_type": "code",
   "execution_count": 1,
   "metadata": {
    "collapsed": true
   },
   "outputs": [],
   "source": [
    "import pandas as pd\n",
    "import numpy as np\n",
    "\n",
    "import matplotlib\n",
    "import matplotlib.pyplot as plt\n",
    "%matplotlib inline\n",
    "matplotlib.rcParams['figure.figsize'] = (8., 10.0) "
   ]
  },
  {
   "cell_type": "markdown",
   "metadata": {},
   "source": [
    "First, let's read the data into a Pandas dataframe. There are 53072 rows and 4 columns of the data. Each row contains a review for a baby project on Amazon, and each row includes \n",
    "\n",
    "- the product name ('name')\n",
    "- the review in original text form ('review')\n",
    "- the customer rating (\"rating\", ranging from 1 to 5 with 5 being the highest)\n",
    "- a label denoting whether the review is positive or negative (\"sentiment\", 1 means positive, and -1 means negative).\n"
   ]
  },
  {
   "cell_type": "code",
   "execution_count": 2,
   "metadata": {
    "collapsed": false
   },
   "outputs": [],
   "source": [
    "df = pd.read_csv('amazon_baby_subset.csv', skiprows =1, names = ['name','review','rating','sentiment']) "
   ]
  },
  {
   "cell_type": "code",
   "execution_count": 3,
   "metadata": {
    "collapsed": false
   },
   "outputs": [
    {
     "data": {
      "text/html": [
       "<div>\n",
       "<table border=\"1\" class=\"dataframe\">\n",
       "  <thead>\n",
       "    <tr style=\"text-align: right;\">\n",
       "      <th></th>\n",
       "      <th>name</th>\n",
       "      <th>review</th>\n",
       "      <th>rating</th>\n",
       "      <th>sentiment</th>\n",
       "    </tr>\n",
       "  </thead>\n",
       "  <tbody>\n",
       "    <tr>\n",
       "      <th>0</th>\n",
       "      <td>Stop Pacifier Sucking without tears with Thumb...</td>\n",
       "      <td>All of my kids have cried non-stop when I trie...</td>\n",
       "      <td>5</td>\n",
       "      <td>1</td>\n",
       "    </tr>\n",
       "    <tr>\n",
       "      <th>1</th>\n",
       "      <td>Nature's Lullabies Second Year Sticker Calendar</td>\n",
       "      <td>We wanted to get something to keep track of ou...</td>\n",
       "      <td>5</td>\n",
       "      <td>1</td>\n",
       "    </tr>\n",
       "    <tr>\n",
       "      <th>2</th>\n",
       "      <td>Nature's Lullabies Second Year Sticker Calendar</td>\n",
       "      <td>My daughter had her 1st baby over a year ago. ...</td>\n",
       "      <td>5</td>\n",
       "      <td>1</td>\n",
       "    </tr>\n",
       "    <tr>\n",
       "      <th>3</th>\n",
       "      <td>Lamaze Peekaboo, I Love You</td>\n",
       "      <td>One of baby's first and favorite books, and it...</td>\n",
       "      <td>4</td>\n",
       "      <td>1</td>\n",
       "    </tr>\n",
       "    <tr>\n",
       "      <th>4</th>\n",
       "      <td>SoftPlay Peek-A-Boo Where's Elmo A Children's ...</td>\n",
       "      <td>Very cute interactive book! My son loves this ...</td>\n",
       "      <td>5</td>\n",
       "      <td>1</td>\n",
       "    </tr>\n",
       "  </tbody>\n",
       "</table>\n",
       "</div>"
      ],
      "text/plain": [
       "                                                name  \\\n",
       "0  Stop Pacifier Sucking without tears with Thumb...   \n",
       "1    Nature's Lullabies Second Year Sticker Calendar   \n",
       "2    Nature's Lullabies Second Year Sticker Calendar   \n",
       "3                        Lamaze Peekaboo, I Love You   \n",
       "4  SoftPlay Peek-A-Boo Where's Elmo A Children's ...   \n",
       "\n",
       "                                              review  rating  sentiment  \n",
       "0  All of my kids have cried non-stop when I trie...       5          1  \n",
       "1  We wanted to get something to keep track of ou...       5          1  \n",
       "2  My daughter had her 1st baby over a year ago. ...       5          1  \n",
       "3  One of baby's first and favorite books, and it...       4          1  \n",
       "4  Very cute interactive book! My son loves this ...       5          1  "
      ]
     },
     "execution_count": 3,
     "metadata": {},
     "output_type": "execute_result"
    }
   ],
   "source": [
    "df.head()"
   ]
  },
  {
   "cell_type": "code",
   "execution_count": 4,
   "metadata": {
    "collapsed": false
   },
   "outputs": [
    {
     "name": "stdout",
     "output_type": "stream",
     "text": [
      "name         object\n",
      "review       object\n",
      "rating        int64\n",
      "sentiment     int64\n",
      "dtype: object\n",
      "             rating     sentiment\n",
      "count  53072.000000  53072.000000\n",
      "mean       3.097490      0.001620\n",
      "std        1.730509      1.000008\n",
      "min        1.000000     -1.000000\n",
      "25%        1.000000     -1.000000\n",
      "50%        4.000000      1.000000\n",
      "75%        5.000000      1.000000\n",
      "max        5.000000      1.000000\n"
     ]
    }
   ],
   "source": [
    "print df.dtypes\n",
    "print df.describe()"
   ]
  },
  {
   "cell_type": "code",
   "execution_count": 5,
   "metadata": {
    "collapsed": false
   },
   "outputs": [
    {
     "name": "stdout",
     "output_type": "stream",
     "text": [
      "number of positive items:  26579\n",
      "number of negative items:  26493\n"
     ]
    }
   ],
   "source": [
    "print 'number of positive items: ',df[df.sentiment == 1].sentiment.count()\n",
    "print 'number of negative items: ',df[df.sentiment == -1].sentiment.count()"
   ]
  },
  {
   "cell_type": "markdown",
   "metadata": {},
   "source": [
    "We can see as described in the problem setup, the number of positive and negative items are about the same. \n",
    "\n",
    "The \"sentiment\" column is actually generated from \"rating\" in previous data cleaning processes. We removed neutral ratings (rating = 3), and decided to consider reviews with rating 1-2 as negative, and 4-5 as positive."
   ]
  },
  {
   "cell_type": "code",
   "execution_count": 6,
   "metadata": {
    "collapsed": false,
    "scrolled": true
   },
   "outputs": [
    {
     "data": {
      "text/plain": [
       "<matplotlib.axes._subplots.AxesSubplot at 0x112bdce90>"
      ]
     },
     "execution_count": 6,
     "metadata": {},
     "output_type": "execute_result"
    },
    {
     "data": {
      "image/png": "[encoded data removed]",
      "text/plain": [
       "<matplotlib.figure.Figure at 0x112bdcb10>"
      ]
     },
     "metadata": {},
     "output_type": "display_data"
    }
   ],
   "source": [
    "pd.options.display.mpl_style = 'default'\n",
    "df['rating'].plot( x='Rating', y='Count', kind='hist', alpha=0.5, title='Costomer ratings')"
   ]
  },
  {
   "cell_type": "markdown",
   "metadata": {},
   "source": [
    "### Data cleaning\n",
    "Before we dive into the review data, let's first deal with some missing entreis (n/a), and remove functuation for the ease of further processing. "
   ]
  },
  {
   "cell_type": "code",
   "execution_count": 7,
   "metadata": {
    "collapsed": true
   },
   "outputs": [],
   "source": [
    "# fill in nas in the review column\n",
    "df = df.fillna({'review':''})  "
   ]
  },
  {
   "cell_type": "code",
   "execution_count": 8,
   "metadata": {
    "collapsed": false
   },
   "outputs": [],
   "source": [
    "# let's use pandas translate to map all punctuations into empty strings\n",
    "import string\n",
    "df['review_clean'] = df['review'].apply(lambda x: x.translate(string.maketrans(\"\",\"\"), string.punctuation))"
   ]
  },
  {
   "cell_type": "code",
   "execution_count": 9,
   "metadata": {
    "collapsed": false
   },
   "outputs": [
    {
     "data": {
      "text/plain": [
       "0    All of my kids have cried nonstop when I tried...\n",
       "1    We wanted to get something to keep track of ou...\n",
       "2    My daughter had her 1st baby over a year ago S...\n",
       "3    One of babys first and favorite books and it i...\n",
       "4    Very cute interactive book My son loves this b...\n",
       "Name: review_clean, dtype: object"
      ]
     },
     "execution_count": 9,
     "metadata": {},
     "output_type": "execute_result"
    }
   ],
   "source": [
    "# print the first 5 entries to make sure the puncutation has been successfully removed\n",
    "df['review_clean'].iloc[0:5]"
   ]
  },
  {
   "cell_type": "markdown",
   "metadata": {},
   "source": [
    "### Feature extraction\n",
    "Let's build bag-of-words features for the 193 most frequent words (the list of words is provided for this assignment). "
   ]
  },
  {
   "cell_type": "code",
   "execution_count": 10,
   "metadata": {
    "collapsed": true
   },
   "outputs": [],
   "source": [
    "# first read in the list of word from json file. \n",
    "import json\n",
    "with open('important_words.json') as data_file:    \n",
    "    important_words = json.load(data_file)"
   ]
  },
  {
   "cell_type": "code",
   "execution_count": 11,
   "metadata": {
    "collapsed": false,
    "scrolled": false
   },
   "outputs": [
    {
     "data": {
      "text/plain": [
       "[u'baby', u'one', u'great', u'love', u'use']"
      ]
     },
     "execution_count": 11,
     "metadata": {},
     "output_type": "execute_result"
    }
   ],
   "source": [
    "# print out the first 5 entries to check\n",
    "important_words[0:5]"
   ]
  },
  {
   "cell_type": "code",
   "execution_count": 12,
   "metadata": {
    "collapsed": false
   },
   "outputs": [],
   "source": [
    "# now let's do word counts for all the reviews\n",
    "for word in important_words:\n",
    "    df[word] = df['review_clean'].apply(lambda s : s.split().count(word))"
   ]
  },
  {
   "cell_type": "code",
   "execution_count": 13,
   "metadata": {
    "collapsed": false
   },
   "outputs": [
    {
     "data": {
      "text/plain": [
       "(53072, 198)"
      ]
     },
     "execution_count": 13,
     "metadata": {},
     "output_type": "execute_result"
    }
   ],
   "source": [
    "# Now we should have one column for each word count. Let's check the dimension of the dataframe\n",
    "# to confirm this.\n",
    "df.shape"
   ]
  },
  {
   "cell_type": "code",
   "execution_count": 14,
   "metadata": {
    "collapsed": false
   },
   "outputs": [
    {
     "data": {
      "text/plain": [
       "2955"
      ]
     },
     "execution_count": 14,
     "metadata": {},
     "output_type": "execute_result"
    }
   ],
   "source": [
    "# Let's look at one word as an example, say, how many reviews contain the word perfect?\n",
    "df['perfect'].apply(lambda count: 1 if count>0 else 0).sum()"
   ]
  },
  {
   "cell_type": "markdown",
   "metadata": {},
   "source": [
    "To make our later operations more efficient, let's convert our count data into a numpy array:"
   ]
  },
  {
   "cell_type": "code",
   "execution_count": 15,
   "metadata": {
    "collapsed": true
   },
   "outputs": [],
   "source": [
    "def get_numpy_data(dataframe, features, label):\n",
    "    '''  \n",
    "    Input: \n",
    "    dataframe - every row contains one data, and each feature is a column in the data frame\n",
    "    features - a list of string of feature names\n",
    "    lable - name of the class label column\n",
    "    \n",
    "    return\n",
    "    - a 2D array contains the values for every feature and a column of 1 for fitting the intercept\n",
    "    - a 1D array of the class values\n",
    "    \n",
    "    '''\n",
    "    dataframe['constant'] = 1\n",
    "    features = ['constant'] + features\n",
    "    features_frame = dataframe[features]\n",
    "    feature_matrix = features_frame.as_matrix()\n",
    "    label_sarray = dataframe[label]\n",
    "    label_array = label_sarray.as_matrix()\n",
    "    return(feature_matrix, label_array)"
   ]
  },
  {
   "cell_type": "code",
   "execution_count": 16,
   "metadata": {
    "collapsed": true
   },
   "outputs": [],
   "source": [
    "feature_matrix, sentiment = get_numpy_data(df, important_words, 'sentiment')"
   ]
  },
  {
   "cell_type": "code",
   "execution_count": 17,
   "metadata": {
    "collapsed": false
   },
   "outputs": [
    {
     "data": {
      "text/plain": [
       "(53072, 194)"
      ]
     },
     "execution_count": 17,
     "metadata": {},
     "output_type": "execute_result"
    }
   ],
   "source": [
    "feature_matrix.shape"
   ]
  },
  {
   "cell_type": "code",
   "execution_count": 18,
   "metadata": {
    "collapsed": false
   },
   "outputs": [
    {
     "data": {
      "text/plain": [
       "(53072,)"
      ]
     },
     "execution_count": 18,
     "metadata": {},
     "output_type": "execute_result"
    }
   ],
   "source": [
    "sentiment.shape"
   ]
  },
  {
   "cell_type": "markdown",
   "metadata": {},
   "source": [
    "### Construct the logistic regression model"
   ]
  },
  {
   "cell_type": "code",
   "execution_count": 19,
   "metadata": {
    "collapsed": true
   },
   "outputs": [],
   "source": [
    "def predict_probability(feature_matrix, coefficients):\n",
    "    ''' \n",
    "    compute the probability of prediction 1s given feature matrix\n",
    "    and coefficients with a logic link.\n",
    "    \n",
    "    return a vector - one probability for each data point\n",
    "    '''\n",
    "    \n",
    "    score = np.dot(feature_matrix, coefficients)\n",
    "    predictions = 1./(1.+np.exp(-score))\n",
    "    return predictions"
   ]
  },
  {
   "cell_type": "code",
   "execution_count": 25,
   "metadata": {
    "collapsed": false
   },
   "outputs": [],
   "source": [
    "def feature_derivative(errors, feature):     \n",
    "    ''' \n",
    "    Compute the derivative given a column of errors and a column of feature\n",
    "    '''\n",
    "    derivative = np.dot(errors, feature).sum()\n",
    "\n",
    "    return derivative\n"
   ]
  },
  {
   "cell_type": "code",
   "execution_count": 26,
   "metadata": {
    "collapsed": false
   },
   "outputs": [],
   "source": [
    "def compute_log_likelihood(feature_matrix, sentiment, coefficients):\n",
    "    ''' \n",
    "    Compute the log-likelihood function for logistic regression\n",
    "    not sure about this one. need double check\n",
    "    '''\n",
    "    indicator = (sentiment==+1)\n",
    "    scores = np.dot(feature_matrix, coefficients)\n",
    "    lp = np.sum((indicator-1)*scores - np.log(1. + np.exp(-scores)))\n",
    "    return lp"
   ]
  },
  {
   "cell_type": "code",
   "execution_count": 27,
   "metadata": {
    "collapsed": false
   },
   "outputs": [],
   "source": [
    "def logistic_regression(feature_matrix, sentiment, init_coefficients, stepsize, max_iter):\n",
    "    '''\n",
    "    Do we actually need the likelihood function for anything?\n",
    "    '''\n",
    "    coeff = init_coefficients\n",
    "    pred = predict_probability(feature_matrix, coeff)\n",
    "    # let's figure out how to calculate the error \n",
    "    errors = (sentiment==+1)-pred\n",
    "    print 'total errors = ',np.sum(errors)\n",
    "    \n",
    "    for i in range(max_iter):\n",
    "        totalpartial = 0\n",
    "        for j in range(len(important_words)+1):\n",
    "            # gredient ascent on one dimension\n",
    "            partial = feature_derivative(errors, feature_matrix[:,j])\n",
    "            coeff[j] += stepsize*partial\n",
    "            totalpartial += partial**2\n",
    "            # calculate the new prediction and error\n",
    "            \n",
    "        pred = predict_probability(feature_matrix, coeff)\n",
    "        errors = (sentiment==+1)-pred\n",
    "            \n",
    "            # exit condition <- need some work\n",
    "        if totalpartial <= 1e-5: \n",
    "            print 'exit after', i ,'iterations'\n",
    "            return coeff, pred\n",
    "        \n",
    "    return coeff, pred"
   ]
  },
  {
   "cell_type": "code",
   "execution_count": 33,
   "metadata": {
    "collapsed": false,
    "scrolled": false
   },
   "outputs": [
    {
     "name": "stdout",
     "output_type": "stream",
     "text": [
      "total errors =  43.0\n"
     ]
    }
   ],
   "source": [
    "coeff, pred = logistic_regression(feature_matrix, sentiment, np.zeros(len(important_words)+1), 1e-7, 301)"
   ]
  },
  {
   "cell_type": "code",
   "execution_count": 34,
   "metadata": {
    "collapsed": false
   },
   "outputs": [
    {
     "data": {
      "text/plain": [
       "(array([  1.,   4.,  11.,  60.,  82.,  27.,   4.,   0.,   2.,   3.]),\n",
       " array([-0.05386015, -0.04181953, -0.0297789 , -0.01773828, -0.00569766,\n",
       "         0.00634297,  0.01838359,  0.03042421,  0.04246484,  0.05450546,\n",
       "         0.06654608]),\n",
       " <a list of 10 Patch objects>)"
      ]
     },
     "execution_count": 34,
     "metadata": {},
     "output_type": "execute_result"
    },
    {
     "data": {
      "image/png": "[encoded data removed]",
      "text/plain": [
       "<matplotlib.figure.Figure at 0x10f2b0790>"
      ]
     },
     "metadata": {},
     "output_type": "display_data"
    }
   ],
   "source": [
    "plt.hist(coeff)"
   ]
  },
  {
   "cell_type": "code",
   "execution_count": 35,
   "metadata": {
    "collapsed": false,
    "scrolled": true
   },
   "outputs": [
    {
     "data": {
      "text/plain": [
       "25126"
      ]
     },
     "execution_count": 35,
     "metadata": {},
     "output_type": "execute_result"
    }
   ],
   "source": [
    "# number of reviews that are predicted as positive\n",
    "pos = (pred>=0.5)\n",
    "np.sum(pos)"
   ]
  },
  {
   "cell_type": "code",
   "execution_count": 46,
   "metadata": {
    "collapsed": false,
    "scrolled": true
   },
   "outputs": [
    {
     "name": "stdout",
     "output_type": "stream",
     "text": [
      "39903\n",
      "0.751865390413\n"
     ]
    }
   ],
   "source": [
    "# What about the accuracy?\n",
    "sentpos = (sentiment==+1)\n",
    "agree = (pos == sentpos)\n",
    "print np.sum(agree)\n",
    "print (np.sum(agree)+0.0)/agree.shape[0]\n"
   ]
  },
  {
   "cell_type": "code",
   "execution_count": 38,
   "metadata": {
    "collapsed": false
   },
   "outputs": [],
   "source": [
    "# Let's sort the word list by weight\n",
    "sindex = coeff.argsort()\n",
    "# note that the weight array includes the intercept. Let's add an empty string to count for that.\n",
    "full_words = np.array([' '] +important_words) \n",
    "sorted_words = full_words[sindex]"
   ]
  },
  {
   "cell_type": "code",
   "execution_count": 71,
   "metadata": {
    "collapsed": false
   },
   "outputs": [],
   "source": [
    "# print the top 10 negative words\n",
    "#sorted_words[0:10]\n",
    "#sorted_words[-10:]\n",
    "\n",
    "def plot_top_words(num, twords, wprob, title):\n",
    "    matplotlib.rcParams['figure.figsize'] = (12, 8.0) \n",
    "    plt.bar(range(num), wprob, 0.6)\n",
    "    plt.xticks(range(num), twords)\n",
    "    plt.tick_params(labelsize=15)\n",
    "    plt.title(title, fontsize=20)\n",
    "    plt.show()\n"
   ]
  },
  {
   "cell_type": "code",
   "execution_count": 72,
   "metadata": {
    "collapsed": false
   },
   "outputs": [
    {
     "data": {
      "image/png": "[encoded data removed]",
      "text/plain": [
       "<matplotlib.figure.Figure at 0x1186bf3d0>"
      ]
     },
     "metadata": {},
     "output_type": "display_data"
    }
   ],
   "source": [
    "plot_top_words(10, sorted_words[-10:], coeff[sindex][-10:],'Top 10 positive words')"
   ]
  },
  {
   "cell_type": "code",
   "execution_count": 73,
   "metadata": {
    "collapsed": false
   },
   "outputs": [
    {
     "data": {
      "image/png": "[encoded data removed]",
      "text/plain": [
       "<matplotlib.figure.Figure at 0x102e0a310>"
      ]
     },
     "metadata": {},
     "output_type": "display_data"
    }
   ],
   "source": [
    "plot_top_words(10, sorted_words[0:10], coeff[sindex][0:10],'Top 10 negative words')"
   ]
  },
  {
   "cell_type": "code",
   "execution_count": null,
   "metadata": {
    "collapsed": false
   },
   "outputs": [],
   "source": []
  },
  {
   "cell_type": "markdown",
   "metadata": {
    "collapsed": true
   },
   "source": [
    "### Now let's add some regularization to prevent over-fitting"
   ]
  },
  {
   "cell_type": "code",
   "execution_count": null,
   "metadata": {
    "collapsed": false
   },
   "outputs": [],
   "source": []
  },
  {
   "cell_type": "code",
   "execution_count": null,
   "metadata": {
    "collapsed": true
   },
   "outputs": [],
   "source": []
  }
 ],
 "metadata": {
  "kernelspec": {
   "display_name": "Python 2",
   "language": "python",
   "name": "python2"
  },
  "language_info": {
   "codemirror_mode": {
    "name": "ipython",
    "version": 2
   },
   "file_extension": ".py",
   "mimetype": "text/x-python",
   "name": "python",
   "nbconvert_exporter": "python",
   "pygments_lexer": "ipython2",
   "version": "2.7.12"
  }
 },
 "nbformat": 4,
 "nbformat_minor": 0
}
